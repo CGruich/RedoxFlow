{
 "cells": [
  {
   "cell_type": "markdown",
   "id": "850f1260-f784-463d-ae96-3be697ef9dfa",
   "metadata": {},
   "source": [
    "# RedoxFlow Agent Demonstration"
   ]
  },
  {
   "cell_type": "markdown",
   "id": "a0624794-92a6-44f1-8de1-ee4ed27a25dc",
   "metadata": {},
   "source": [
    "Import the agent class interface"
   ]
  },
  {
   "cell_type": "code",
   "execution_count": 5,
   "id": "afcff8fd-45fb-4a6b-9c26-60a9fe6ee66d",
   "metadata": {},
   "outputs": [],
   "source": [
    "from agent import RedoxFlow"
   ]
  },
  {
   "cell_type": "markdown",
   "id": "a62d9c4b-defc-43c2-bbc9-f10032a4e1b7",
   "metadata": {},
   "source": [
    "Set REDOXGIT environmental variable to point to the root directory of the repo. It should be an absoulte path\n",
    "\n",
    "For demonstration, we keep all agent functionality within the repo (e.g., stored memory, resulting filepaths, etc.)\n",
    "\n",
    "So, we require this environmental variable to be set."
   ]
  },
  {
   "cell_type": "code",
   "execution_count": 6,
   "id": "21b72c83-9111-44b2-8149-66c52bd9f13e",
   "metadata": {},
   "outputs": [],
   "source": [
    "import os\n",
    "# Local Code Repo Location\n",
    "os.environ[\"REDOXGIT\"] = \"/home/cameron/Documents/Github/RedoxFlow\" # No / :)"
   ]
  },
  {
   "cell_type": "code",
   "execution_count": 7,
   "id": "227ab6b9-9aa6-46e0-826b-ad27c923dc51",
   "metadata": {},
   "outputs": [],
   "source": [
    "# Initialize the agent\n",
    "rf = RedoxFlow()"
   ]
  },
  {
   "cell_type": "markdown",
   "id": "b233946d-0d49-40c1-983c-2641433fb90c",
   "metadata": {},
   "source": [
    " ---"
   ]
  },
  {
   "cell_type": "markdown",
   "id": "26402937-f944-44fa-89bb-f38f0e6cf659",
   "metadata": {},
   "source": [
    "## Chemical & Simulation Script Generation"
   ]
  },
  {
   "cell_type": "markdown",
   "id": "a9364018-edc7-4e14-83b0-651ba417761d",
   "metadata": {},
   "source": [
    "This prepare_scripts() method (1) generates reactants, (2) generates reduced product candidates for each reactant, (3) conformer searches both reactants and products, (4) saves the lowest energy reactant/product conformer pair in memory, and then (5) writes the simulation scripts with initial geometries."
   ]
  },
  {
   "cell_type": "code",
   "execution_count": 8,
   "id": "50ba268c-139a-4420-b14c-8b5e17a440e7",
   "metadata": {},
   "outputs": [
    {
     "name": "stdout",
     "output_type": "stream",
     "text": [
      "________________________________________________________________________________________________\n",
      "[REDUCTION CANDIDATE SEARCH]\n",
      " rc=0  cmd: /home/cameron/Documents/envs/chemflow/bin/python /home/cameron/Documents/Github/RedoxFlow/scripts/reduce.py --molecules /home/cameron/Documents/Github/RedoxFlow/memory/reactants_memory.csv --reactions /home/cameron/Documents/Github/RedoxFlow/scripts/reactions.json --out /home/cameron/Documents/Github/RedoxFlow/memory/reduction_candidates.csv --depth 2\n",
      "\n",
      "--- Output ---\n",
      "Wrote 15 rows to /home/cameron/Documents/Github/RedoxFlow/memory/reduction_candidates.csv\n",
      "\n",
      "\n",
      "\n",
      "\n",
      "________________________________________________________________________________________________\n",
      "[CONFORMER SEARCH]\n",
      " rc=0  cmd: /home/cameron/Documents/envs/chemflow/bin/python /home/cameron/Documents/Github/RedoxFlow/scripts/conformer.py --in /home/cameron/Documents/Github/RedoxFlow/memory/reduction_candidates.csv --out /home/cameron/Documents/Github/RedoxFlow/memory/products_memory.csv --max-confs 200 --min-steps 1000 --seed 1337 --batch-size 1000\n",
      "\n",
      "--- Output ---\n",
      "[prune] skipped (no memory): /home/cameron/Documents/Github/memory/products_memory.csv not initialized\n",
      "\n",
      "\n",
      "\n",
      "[row 0] Product_SMILES='CC(C)CC(N)O' -> E=0.863610 kcal/mol\n",
      "[row 1] Product_SMILES='CC(C)CCN' -> E=3.108830 kcal/mol\n",
      "[row 2] Product_SMILES='CNCC(C)C' -> E=0.214140 kcal/mol\n",
      "[row 3] Product_SMILES='CNC(O)C(C)C' -> E=-7.153100 kcal/mol\n",
      "[row 5] Product_SMILES='CCC(C)NC' -> E=0.000000 kcal/mol\n",
      "[row 6] Product_SMILES='CC(C)CCCO' -> E=6.927640 kcal/mol\n",
      "[row 7] Product_SMILES='[CH2]CCC(C)C' -> E=-52.856270 kcal/mol\n",
      "[row 8] Product_SMILES='CCCC(C)C' -> E=-48.895150 kcal/mol\n",
      "[row 9] Product_SMILES='CCC(C)C(N)O' -> E=0.804630 kcal/mol\n",
      "[row 10] Product_SMILES='CCC(C)CN' -> E=1.106740 kcal/mol\n",
      "[row 11] Product_SMILES='CCOC(O)CC' -> E=0.031860 kcal/mol\n",
      "[row 12] Product_SMILES='CCCOCC' -> E=-9.373420 kcal/mol\n",
      "[row 13] Product_SMILES='CC(C)NC(C)O' -> E=0.000000 kcal/mol\n",
      "[row 14] Product_SMILES='CCNC(C)C' -> E=6.427230 kcal/mol\n",
      "Wrote 8 winners to /home/cameron/Documents/Github/RedoxFlow/memory/products_memory.csv\n",
      "[diag] reactant '2' SMILES='CC(C)CC(N)=O' -> E=0.750450 kcal/mol\n",
      "[diag] reactant '4' SMILES='CC(C)CNC=O' -> E=2.434670 kcal/mol\n",
      "[diag] reactant '5' SMILES='CNC(=O)C(C)C' -> E=0.071570 kcal/mol\n",
      "[diag] reactant '6' SMILES='CCC(C)NC=O' -> E=-0.433970 kcal/mol\n",
      "[diag] reactant '7' SMILES='CC(C)CCC=O' -> E=-0.215510 kcal/mol\n",
      "[diag] reactant '8' SMILES='CCC(C)C(N)=O' -> E=5.912000 kcal/mol\n",
      "[diag] reactant '10' SMILES='CCOC(=O)CC' -> E=-33.558300 kcal/mol\n",
      "[diag] reactant '13' SMILES='CC(=O)NC(C)C' -> E=-25.039090 kcal/mol\n",
      "\n",
      "________________________________________________________________________________________________\n",
      "[SCRIPT GENERATION]\n",
      " rc=0  cmd: /home/cameron/Documents/envs/chemflow/bin/python /home/cameron/Documents/Github/RedoxFlow/scripts/generate_nw.py --reactants_in /home/cameron/Documents/Github/RedoxFlow/memory/reactants --products_in /home/cameron/Documents/Github/RedoxFlow/memory/products --scripts_out /home/cameron/Documents/Github/RedoxFlow/memory/scripts\n",
      "\n",
      "--- Output ---\n",
      "[info] found 16 XYZ files in /home/cameron/Documents/Github/RedoxFlow/memory/reactants, /home/cameron/Documents/Github/RedoxFlow/memory/products\n",
      "[do ] reactant  react_10.xyz               SMILES=CCOC(=O)CC\n",
      "[ok] wrote /home/cameron/Documents/Github/RedoxFlow/memory/scripts/reactants/react_10/react_10.nw  (geom=react_10.xyz, charge=0, mult=1)\n",
      "[do ] reactant  react_13.xyz               SMILES=CC(=O)NC(C)C\n",
      "[ok] wrote /home/cameron/Documents/Github/RedoxFlow/memory/scripts/reactants/react_13/react_13.nw  (geom=react_13.xyz, charge=0, mult=1)\n",
      "[do ] reactant  react_2.xyz                SMILES=CC(C)CC(N)=O\n",
      "[ok] wrote /home/cameron/Documents/Github/RedoxFlow/memory/scripts/reactants/react_2/react_2.nw  (geom=react_2.xyz, charge=0, mult=1)\n",
      "[do ] reactant  react_4.xyz                SMILES=CC(C)CNC=O\n",
      "[ok] wrote /home/cameron/Documents/Github/RedoxFlow/memory/scripts/reactants/react_4/react_4.nw  (geom=react_4.xyz, charge=0, mult=1)\n",
      "[do ] reactant  react_5.xyz                SMILES=CNC(=O)C(C)C\n",
      "[ok] wrote /home/cameron/Documents/Github/RedoxFlow/memory/scripts/reactants/react_5/react_5.nw  (geom=react_5.xyz, charge=0, mult=1)\n",
      "[do ] reactant  react_6.xyz                SMILES=CCC(C)NC=O\n",
      "[ok] wrote /home/cameron/Documents/Github/RedoxFlow/memory/scripts/reactants/react_6/react_6.nw  (geom=react_6.xyz, charge=0, mult=1)\n",
      "[do ] reactant  react_7.xyz                SMILES=CC(C)CCC=O\n",
      "[ok] wrote /home/cameron/Documents/Github/RedoxFlow/memory/scripts/reactants/react_7/react_7.nw  (geom=react_7.xyz, charge=0, mult=1)\n",
      "[do ] reactant  react_8.xyz                SMILES=CCC(C)C(N)=O\n",
      "[ok] wrote /home/cameron/Documents/Github/RedoxFlow/memory/scripts/reactants/react_8/react_8.nw  (geom=react_8.xyz, charge=0, mult=1)\n",
      "[do ] product   prod_10.xyz                SMILES=CCCOCC\n",
      "[ok] wrote /home/cameron/Documents/Github/RedoxFlow/memory/scripts/products/prod_10/prod_10.nw  (geom=prod_10.xyz, charge=0, mult=1)\n",
      "[do ] product   prod_13.xyz                SMILES=CC(C)NC(C)O\n",
      "[ok] wrote /home/cameron/Documents/Github/RedoxFlow/memory/scripts/products/prod_13/prod_13.nw  (geom=prod_13.xyz, charge=0, mult=1)\n",
      "[do ] product   prod_2.xyz                 SMILES=CC(C)CC(N)O\n",
      "[ok] wrote /home/cameron/Documents/Github/RedoxFlow/memory/scripts/products/prod_2/prod_2.nw  (geom=prod_2.xyz, charge=0, mult=1)\n",
      "[do ] product   prod_4.xyz                 SMILES=CNCC(C)C\n",
      "[ok] wrote /home/cameron/Documents/Github/RedoxFlow/memory/scripts/products/prod_4/prod_4.nw  (geom=prod_4.xyz, charge=0, mult=1)\n",
      "[do ] product   prod_5.xyz                 SMILES=CNC(O)C(C)C\n",
      "[ok] wrote /home/cameron/Documents/Github/RedoxFlow/memory/scripts/products/prod_5/prod_5.nw  (geom=prod_5.xyz, charge=0, mult=1)\n",
      "[do ] product   prod_6.xyz                 SMILES=CCC(C)NC\n",
      "[ok] wrote /home/cameron/Documents/Github/RedoxFlow/memory/scripts/products/prod_6/prod_6.nw  (geom=prod_6.xyz, charge=0, mult=1)\n",
      "[do ] product   prod_7.xyz                 SMILES=[CH2]CCC(C)C\n",
      "[ok] wrote /home/cameron/Documents/Github/RedoxFlow/memory/scripts/products/prod_7/prod_7.nw  (geom=prod_7.xyz, charge=0, mult=2)\n",
      "[do ] product   prod_8.xyz                 SMILES=CCC(C)C(N)O\n",
      "[ok] wrote /home/cameron/Documents/Github/RedoxFlow/memory/scripts/products/prod_8/prod_8.nw  (geom=prod_8.xyz, charge=0, mult=1)\n",
      "[done] 16 ok, 0 failed\n",
      "\n",
      "\n",
      "\n",
      "\n",
      "________________________________________________________________________________________________\n"
     ]
    }
   ],
   "source": [
    "agent_raw_output = rf.prepare_scripts(num_generated_reactants=10, # Number of generated reactants to save\n",
    "                    max_heavy_atoms_per_reactant=8, # Max # of non-hydrogen atoms per reactant\n",
    "                    min_uniq_elements=1, # Min of non-C elements allowed in the molecule\n",
    "                    temperature=0.425, # Higher -> More unusual structures, more electronegatives\n",
    "                    device='auto', # 'cpu', 'cuda:0' for GPUs, 'auto' to auto-determine\n",
    "                    verbose=True) # Print out intermediate script preparation progress"
   ]
  },
  {
   "cell_type": "markdown",
   "id": "51daaf56-7caf-4672-877e-edb4537864c3",
   "metadata": {},
   "source": [
    " ---"
   ]
  },
  {
   "cell_type": "markdown",
   "id": "6c8118d0-eb6e-49a0-b6f4-666783637a9b",
   "metadata": {},
   "source": [
    "## Variable Extraction from Simulations"
   ]
  },
  {
   "cell_type": "markdown",
   "id": "4b00d43c-f022-4670-975f-120bd96b7f13",
   "metadata": {},
   "source": [
    "The extract_variables() method takes successful simulations and auto-extracts the relevant thermodynamic variables for the redox potential calculation from the bulk simulation output."
   ]
  },
  {
   "cell_type": "markdown",
   "id": "d57ddb87-1ae5-48e3-9924-90e972b465f4",
   "metadata": {},
   "source": [
    "We demonstrate variable extraction on a reactant/product pair of simulations prepared by the agent that we ran ahead of time."
   ]
  },
  {
   "cell_type": "code",
   "execution_count": 4,
   "id": "ce7ba015-d87d-4f69-8f68-ffb3ec5c3605",
   "metadata": {},
   "outputs": [],
   "source": [
    "test_sim_root = f'{os.environ.get(\"REDOXGIT\")}/redox_calculation_test'"
   ]
  },
  {
   "cell_type": "code",
   "execution_count": 5,
   "id": "085bc04d-3129-489d-957c-91e2aa6e787f",
   "metadata": {},
   "outputs": [],
   "source": [
    "# Auto-extract thermodynamic variables from simulation output\n",
    "rf.extract_variables(sim_root=test_sim_root, sim_ext='.out')"
   ]
  },
  {
   "cell_type": "markdown",
   "id": "520db8d3-6072-440e-9181-83002cb50f96",
   "metadata": {},
   "source": [
    "The variables are stored internally to each simulation folder (e.g., react_2_redox.csv). However, you can also call the variables live from the Jupyter notebook."
   ]
  },
  {
   "cell_type": "code",
   "execution_count": 6,
   "id": "8eaa0cee-bd55-4293-8984-feda3e414f8f",
   "metadata": {},
   "outputs": [
    {
     "name": "stdout",
     "output_type": "stream",
     "text": [
      "{'react_2.out':    System Energy (Hartree)  Temperature (K)  \\\n",
      "0              -326.489255           298.15   \n",
      "\n",
      "   Zero-Point correction to Energy (kcal/mol)  \\\n",
      "0                                      97.299   \n",
      "\n",
      "   Thermal correction to Energy (kcal/mol)  \\\n",
      "0                                  102.824   \n",
      "\n",
      "   Thermal correction to Enthalpy (kcal/mol)  Total Entropy (cal/mol-K)  \\\n",
      "0                                    103.416                     91.319   \n",
      "\n",
      "   Translational Entropy (cal/mol-K)   Rotational Entropy (cal/mol-K)  \\\n",
      "0                              39.732                          27.964   \n",
      "\n",
      "   Vibrational Entropy (cal/mol-K)  Solvated System Energy (Hartree)  \\\n",
      "0                           23.622                        -326.50271   \n",
      "\n",
      "   COSMO energy (Hartree)  Nuclear repulsion energy (Hartree)  \\\n",
      "0                0.049338                          312.629724   \n",
      "\n",
      "   Exchange-Corr. energy (Hartree)  Coulomb energy (Hartree)  \\\n",
      "0                       -46.142545                468.535009   \n",
      "\n",
      "   One electron energy (Hartree)  \n",
      "0                   -1061.566465  }\n"
     ]
    }
   ],
   "source": [
    "# We use the term 'miner' to refer to the text miners that extracts the variables\n",
    "for miner in rf.miners['reactants']:\n",
    "    print(miner.variableDF)"
   ]
  },
  {
   "cell_type": "code",
   "execution_count": 7,
   "id": "55ec2394-d776-403c-a504-74f2827127b4",
   "metadata": {},
   "outputs": [
    {
     "name": "stdout",
     "output_type": "stream",
     "text": [
      "{'prod_2.out':    System Energy (Hartree)  Temperature (K)  \\\n",
      "0              -252.547921           298.15   \n",
      "\n",
      "   Zero-Point correction to Energy (kcal/mol)  \\\n",
      "0                                     108.304   \n",
      "\n",
      "   Thermal correction to Energy (kcal/mol)  \\\n",
      "0                                  113.691   \n",
      "\n",
      "   Thermal correction to Enthalpy (kcal/mol)  Total Entropy (cal/mol-K)  \\\n",
      "0                                    114.284                     89.089   \n",
      "\n",
      "   Translational Entropy (cal/mol-K)   Rotational Entropy (cal/mol-K)  \\\n",
      "0                              39.289                          27.233   \n",
      "\n",
      "   Vibrational Entropy (cal/mol-K)  Solvated System Energy (Hartree)  \\\n",
      "0                           22.566                       -252.560288   \n",
      "\n",
      "   COSMO energy (Hartree)  Nuclear repulsion energy (Hartree)  \\\n",
      "0                0.125202                          255.877751   \n",
      "\n",
      "   Exchange-Corr. energy (Hartree)  Coulomb energy (Hartree)  \\\n",
      "0                       -38.385276                376.230239   \n",
      "\n",
      "   One electron energy (Hartree)  \n",
      "0                    -846.400953  }\n"
     ]
    }
   ],
   "source": [
    "for miner in rf.miners['products']:\n",
    "    print(miner.variableDF)"
   ]
  },
  {
   "cell_type": "markdown",
   "id": "14c9e4e3-eaad-407c-84f4-105931227b83",
   "metadata": {},
   "source": [
    "If text-extraction failed (e.g., incomplete simulation or convergence criteria not met), these cases fail gracefully and are recorded. We provide this functionality to motivate next steps in automation for simulation crashing/relaunching."
   ]
  },
  {
   "cell_type": "markdown",
   "id": "7f30ce5a-b634-4a27-ac3d-3fbbb14300bd",
   "metadata": {},
   "source": [
    "Within our test simulation folder, 'react_3' and 'prod_3' deliberately contains incomplete simulation output to demonstrate this functionality."
   ]
  },
  {
   "cell_type": "code",
   "execution_count": 8,
   "id": "2f478f3f-079e-44e6-aaf9-c7c8a52990c9",
   "metadata": {},
   "outputs": [
    {
     "name": "stdout",
     "output_type": "stream",
     "text": [
      "{'reactants': [('/home/cameron/Documents/Github/RedoxFlow/redox_calculation_test/reactants/react_3/react_3.out', AttributeError(\"'NoneType' object has no attribute 'rstrip'\"))], 'products': [('/home/cameron/Documents/Github/RedoxFlow/redox_calculation_test/products/prod_3/prod_3.out', AttributeError(\"'NoneType' object has no attribute 'rstrip'\"))]}\n"
     ]
    }
   ],
   "source": [
    "# Print out which simulations failed thermodynamic variable extraction\n",
    "print(rf.miner_errors)"
   ]
  },
  {
   "cell_type": "markdown",
   "id": "f4c63d6a-273d-4451-8bae-7a0b3a8c3d6d",
   "metadata": {},
   "source": [
    " ---"
   ]
  },
  {
   "cell_type": "markdown",
   "id": "6991a163-c2a4-4d31-9b8a-1b8ed179f59c",
   "metadata": {},
   "source": [
    "## Calculating Redox Potential from Extracted Variables"
   ]
  },
  {
   "cell_type": "code",
   "execution_count": 9,
   "id": "928e9ff4-964b-42fa-831f-1c71361052e4",
   "metadata": {},
   "outputs": [],
   "source": [
    "rf.calculate_redox(n_reduction=2, # Number of participating electorns in PCET reaction (often matches number of hydrogens participating)\n",
    "                   reference_state=0.0, # SHE reference state by default if zero\n",
    "                   sim_root=test_sim_root,\n",
    "                   sim_ext='.csv')"
   ]
  },
  {
   "cell_type": "code",
   "execution_count": 10,
   "id": "2d064807-50f8-41db-b90c-5e61d5a826a4",
   "metadata": {},
   "outputs": [
    {
     "data": {
      "text/plain": [
       "{'2': {'react_path': '/home/cameron/Documents/Github/RedoxFlow/redox_calculation_test/reactants/react_2/react_2_redox.csv',\n",
       "  'prod_path': '/home/cameron/Documents/Github/RedoxFlow/redox_calculation_test/products/prod_2/prod_2_redox.csv',\n",
       "  'h2_path': '/home/cameron/Documents/Github/RedoxFlow/redox_calculation_test/H2/H2_redox.csv',\n",
       "  'n_reduction (# electrons)': 2,\n",
       "  'reference_state': 0.0,\n",
       "  'value (J/C or V)': -1.8479782175433048}}"
      ]
     },
     "execution_count": 10,
     "metadata": {},
     "output_type": "execute_result"
    }
   ],
   "source": [
    "rf.redox_results"
   ]
  },
  {
   "cell_type": "code",
   "execution_count": 11,
   "id": "355ccc8d-07ab-429f-9995-7fdd6d2e9add",
   "metadata": {},
   "outputs": [
    {
     "data": {
      "text/plain": [
       "[]"
      ]
     },
     "execution_count": 11,
     "metadata": {},
     "output_type": "execute_result"
    }
   ],
   "source": [
    "# Failed redox potential calculations are\n",
    "rf.redox_errors"
   ]
  }
 ],
 "metadata": {
  "kernelspec": {
   "display_name": "Python 3 (ipykernel)",
   "language": "python",
   "name": "python3"
  },
  "language_info": {
   "codemirror_mode": {
    "name": "ipython",
    "version": 3
   },
   "file_extension": ".py",
   "mimetype": "text/x-python",
   "name": "python",
   "nbconvert_exporter": "python",
   "pygments_lexer": "ipython3",
   "version": "3.11.13"
  }
 },
 "nbformat": 4,
 "nbformat_minor": 5
}
