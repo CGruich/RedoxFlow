{
 "cells": [
  {
   "cell_type": "markdown",
   "id": "850f1260-f784-463d-ae96-3be697ef9dfa",
   "metadata": {},
   "source": [
    "# RedoxFlow Agent Demonstration"
   ]
  },
  {
   "cell_type": "markdown",
   "id": "a0624794-92a6-44f1-8de1-ee4ed27a25dc",
   "metadata": {},
   "source": [
    "Import the agent class interface"
   ]
  },
  {
   "cell_type": "code",
   "execution_count": 13,
   "id": "afcff8fd-45fb-4a6b-9c26-60a9fe6ee66d",
   "metadata": {},
   "outputs": [],
   "source": [
    "from agent import RedoxFlow"
   ]
  },
  {
   "cell_type": "markdown",
   "id": "a62d9c4b-defc-43c2-bbc9-f10032a4e1b7",
   "metadata": {},
   "source": [
    "Set REDOXGIT environmental variable to point to the root directory of the repo.\n",
    "\n",
    "For demonstration, we keep all agent functionality within the repo (e.g., stored memory, resulting filepaths, etc.)\n",
    "\n",
    "So, we require this environmental variable to be set."
   ]
  },
  {
   "cell_type": "code",
   "execution_count": 14,
   "id": "21b72c83-9111-44b2-8149-66c52bd9f13e",
   "metadata": {},
   "outputs": [],
   "source": [
    "import os\n",
    "# Local Code Repo Location\n",
    "os.environ[\"REDOXGIT\"] = \"/home/cameron/Documents/Github/RedoxFlow\""
   ]
  },
  {
   "cell_type": "code",
   "execution_count": 11,
   "id": "227ab6b9-9aa6-46e0-826b-ad27c923dc51",
   "metadata": {},
   "outputs": [],
   "source": [
    "# Initialize the agent\n",
    "rf = RedoxFlow()"
   ]
  },
  {
   "cell_type": "markdown",
   "id": "a9364018-edc7-4e14-83b0-651ba417761d",
   "metadata": {},
   "source": [
    "Prepare relevant simulation scripts to get all thermodynamic variables needed for redox potential calculation.\n",
    "\n",
    "This prepare_scripts() method (1) generates reactants, (2) generates reduced product candidates for each reactant, (3) conformer searches both reactants and products, (4) saves the lowest energy reactant/product conformer pair in memory, and then (5) writes the simulation scripts with initial geometries."
   ]
  },
  {
   "cell_type": "code",
   "execution_count": 15,
   "id": "50ba268c-139a-4420-b14c-8b5e17a440e7",
   "metadata": {},
   "outputs": [],
   "source": [
    "agent_raw_output = rf.prepare_scripts(num_generated_reactants=10, # Number of generated reactants to save\n",
    "                    max_heavy_atoms_per_reactant=16, # Max # of non-hydrogen atoms per reactant\n",
    "                    min_uniq_elements=1, # Min of non-C elements allowed in the molecule\n",
    "                    temperature=0.425, # Higher -> More unusual structures, more electronegatives\n",
    "                    device='auto', # 'cpu', 'cuda:0' for GPUs, 'auto' to auto-determine\n",
    "                    verbose=False) # Print out intermediate script preparation progress"
   ]
  },
  {
   "cell_type": "code",
   "execution_count": null,
   "id": "0dd2480c-6f29-4c9e-89b4-654848ebed28",
   "metadata": {},
   "outputs": [],
   "source": []
  },
  {
   "cell_type": "code",
   "execution_count": null,
   "id": "28f5e015-9f38-4386-bb3b-3d5b19e7c1e4",
   "metadata": {},
   "outputs": [],
   "source": []
  }
 ],
 "metadata": {
  "kernelspec": {
   "display_name": "Python 3 (ipykernel)",
   "language": "python",
   "name": "python3"
  },
  "language_info": {
   "codemirror_mode": {
    "name": "ipython",
    "version": 3
   },
   "file_extension": ".py",
   "mimetype": "text/x-python",
   "name": "python",
   "nbconvert_exporter": "python",
   "pygments_lexer": "ipython3",
   "version": "3.11.13"
  }
 },
 "nbformat": 4,
 "nbformat_minor": 5
}
