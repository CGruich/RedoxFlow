{
 "cells": [
  {
   "cell_type": "code",
   "execution_count": 1,
   "id": "3a441761-491d-4843-94c9-d9034189eb2a",
   "metadata": {},
   "outputs": [],
   "source": [
    "from langflow.load import run_flow_from_json"
   ]
  },
  {
   "cell_type": "code",
   "execution_count": 16,
   "id": "2534f0c7-02bb-4d29-b220-52f7e33c6a0e",
   "metadata": {},
   "outputs": [],
   "source": [
    "prompt = {\n",
    "  \"count\": 5,\n",
    "  \"max_atoms\": 8,\n",
    "  \"min_unique_elements\": 1,\n",
    "  \"elements\": \"CNOF\",\n",
    "\n",
    "  \"model_id\": \"ibm-research/GP-MoLFormer-Uniq\",\n",
    "  \"tokenizer_id\": \"ibm-research/MoLFormer-XL-both-10pct\",\n",
    "\n",
    "  \"temperature\": 0.425,\n",
    "  \"top_p\": 0.9,\n",
    "  \"top_k\": None,\n",
    "  \"repetition_penalty\": 1.10,\n",
    "  \"num_return_sequences\": 96,\n",
    "\n",
    "  \"device\": \"cuda:0\",\n",
    "  \"rdkit_filter\": True,\n",
    "  \"remap_disallowed\": True,\n",
    "\n",
    "  \"python_script\": os.environ[\"PYTHON_SCRIPT\"],\n",
    "  \"python_args\": [\n",
    "    \"--molecules\", os.environ[\"MOLECULES_CSV\"],\n",
    "    \"--reactions\", os.environ[\"REACTIONS_JSON\"],\n",
    "    \"--out\", os.environ[\"OUT_CSV\"],\n",
    "    \"--depth\", \"2\",\n",
    "  ],\n",
    "\n",
    "  \"bash_cmd\": \"bash \\\"/media/cameron/T7 Touch/Github/CGruich/RedoxFlow/scripts/0_agent_construction/run_conformer_search_nw_generation.sh\\\"\",\n",
    "\n",
    "  \"memory_path\": os.environ[\"MOLECULES_CSV\"],\n",
    "  \"return_smiles\": True\n",
    "}"
   ]
  },
  {
   "cell_type": "code",
   "execution_count": 12,
   "id": "0d1723eb-295f-4338-813b-f04af3588296",
   "metadata": {},
   "outputs": [],
   "source": [
    "prompt = {\n",
    "  \"count\": 5,\n",
    "  \"max_atoms\": 8,\n",
    "  \"min_unique_elements\": 1,\n",
    "  \"elements\": \"CNOF\",\n",
    "\n",
    "  \"model_id\": \"ibm-research/GP-MoLFormer-Uniq\",\n",
    "  \"tokenizer_id\": \"ibm-research/MoLFormer-XL-both-10pct\",\n",
    "\n",
    "  \"temperature\": 0.425,\n",
    "  \"top_p\": 0.9,\n",
    "  \"repetition_penalty\": 1.10,\n",
    "  \"num_return_sequences\": 96,\n",
    "\n",
    "  \"device\": \"cuda:0\",\n",
    "\n",
    "  \"python_jobs\": [\n",
    "    {\n",
    "      \"script\": \"/home/cameron/Documents/Github/RedoxFlow/scripts/reduce.py\",\n",
    "      \"args\": [\n",
    "        \"--molecules\", \"/home/cameron/Documents/Github/RedoxFlow/memory/reactants_memory.csv\",\n",
    "        \"--reactions\", \"/home/cameron/Documents/Github/RedoxFlow/scripts/reactions.json\",\n",
    "        \"--out\", \"/home/cameron/Documents/Github/RedoxFlow/memory/reduction_candidates.csv\",\n",
    "        \"--depth\", \"2\"\n",
    "      ]\n",
    "    },\n",
    "    {\n",
    "      \"script\": \"/home/cameron/Documents/Github/RedoxFlow/scripts/conformer.py\",\n",
    "      \"args\": [\n",
    "        \"--in\", \"/home/cameron/Documents/Github/RedoxFlow/memory/reduction_candidates.csv\",\n",
    "        \"--out\", \"/home/cameron/Documents/Github/RedoxFlow/memory/products_memory.csv\",\n",
    "        \"--max-confs\", \"200\",\n",
    "        \"--min-steps\", \"1000\",\n",
    "        \"--seed\", \"1337\",\n",
    "        \"--batch-size\", \"1000\"\n",
    "      ]\n",
    "    },\n",
    "    {\n",
    "      \"script\": \"/home/cameron/Documents/Github/RedoxFlow/scripts/generate_nw.py\",\n",
    "      \"args\": [\n",
    "        \"--reactants_in\", \"/home/cameron/Documents/Github/RedoxFlow/memory/reactants\",\n",
    "        \"--products_in\", \"/home/cameron/Documents/Github/RedoxFlow/memory/products\",\n",
    "        \"--scripts_out\", \"/home/cameron/Documents/Github/RedoxFlow/memory/scripts\"\n",
    "        ]\n",
    "    }\n",
    "  ],\n",
    "\n",
    "  \"memory_path\": \"/home/cameron/Documents/Github/RedoxFlow/memory/reactants_memory.csv\",\n",
    "}"
   ]
  },
  {
   "cell_type": "code",
   "execution_count": 13,
   "id": "ed6d7547-3f37-4211-8f53-334bb2ae3aae",
   "metadata": {},
   "outputs": [
    {
     "data": {
      "text/plain": [
       "{'count': 5,\n",
       " 'max_atoms': 8,\n",
       " 'min_unique_elements': 1,\n",
       " 'elements': 'CNOF',\n",
       " 'model_id': 'ibm-research/GP-MoLFormer-Uniq',\n",
       " 'tokenizer_id': 'ibm-research/MoLFormer-XL-both-10pct',\n",
       " 'temperature': 0.425,\n",
       " 'top_p': 0.9,\n",
       " 'repetition_penalty': 1.1,\n",
       " 'num_return_sequences': 96,\n",
       " 'device': 'cuda:0',\n",
       " 'python_jobs': [{'script': '/home/cameron/Documents/Github/RedoxFlow/scripts/reduce.py',\n",
       "   'args': ['--molecules',\n",
       "    '/home/cameron/Documents/Github/RedoxFlow/memory/reactants_memory.csv',\n",
       "    '--reactions',\n",
       "    '/home/cameron/Documents/Github/RedoxFlow/scripts/reactions.json',\n",
       "    '--out',\n",
       "    '/home/cameron/Documents/Github/RedoxFlow/memory/reduction_candidates.csv',\n",
       "    '--depth',\n",
       "    '2']},\n",
       "  {'script': '/home/cameron/Documents/Github/RedoxFlow/scripts/conformer.py',\n",
       "   'args': ['--in',\n",
       "    '/home/cameron/Documents/Github/RedoxFlow/memory/reduction_candidates.csv',\n",
       "    '--out',\n",
       "    '/home/cameron/Documents/Github/RedoxFlow/memory/products_memory.csv',\n",
       "    '--max-confs',\n",
       "    '200',\n",
       "    '--min-steps',\n",
       "    '1000',\n",
       "    '--seed',\n",
       "    '1337',\n",
       "    '--batch-size',\n",
       "    '1000']},\n",
       "  {'script': '/home/cameron/Documents/Github/RedoxFlow/scripts/generate_nw.py',\n",
       "   'args': ['--reactants_in',\n",
       "    '/home/cameron/Documents/Github/RedoxFlow/memory/reactants',\n",
       "    '--products_in',\n",
       "    '/home/cameron/Documents/Github/RedoxFlow/memory/products',\n",
       "    '--scripts_out',\n",
       "    '/home/cameron/Documents/Github/RedoxFlow/memory/scripts']}],\n",
       " 'memory_path': '/home/cameron/Documents/Github/RedoxFlow/memory/reactants_memory.csv'}"
      ]
     },
     "execution_count": 13,
     "metadata": {},
     "output_type": "execute_result"
    }
   ],
   "source": [
    "prompt"
   ]
  },
  {
   "cell_type": "code",
   "execution_count": 14,
   "id": "d1fd05ec-3fc3-4e7e-91ee-b21f5a1404d1",
   "metadata": {},
   "outputs": [],
   "source": [
    "# Request payload configuration\n",
    "payload = {\n",
    "    \"output_type\": \"chat\",\n",
    "    \"input_type\": \"chat\",\n",
    "    \"input_value\": str(prompt)\n",
    "}\n",
    "\n",
    "# Request headers\n",
    "headers = {\n",
    "    \"Content-Type\": \"application/json\",\n",
    "    \"x-api-key\": api_key  # Authentication key from environment variable\n",
    "}"
   ]
  },
  {
   "cell_type": "code",
   "execution_count": 15,
   "id": "9ca0afa2-fb84-4529-a860-8670811da4f7",
   "metadata": {},
   "outputs": [
    {
     "name": "stdout",
     "output_type": "stream",
     "text": [
      "Error making API request: 500 Server Error: Internal Server Error for url: http://localhost:7861/api/v1/run/cfc72f63-b9d3-43b0-9559-220a9343d4ec\n"
     ]
    }
   ],
   "source": [
    "try:\n",
    "    # Send API request\n",
    "    response = requests.request(\"POST\", url, json=payload, headers=headers)\n",
    "    response.raise_for_status()  # Raise exception for bad status codes\n",
    "\n",
    "    # Print response\n",
    "    print(response.text)\n",
    "\n",
    "except requests.exceptions.RequestException as e:\n",
    "    print(f\"Error making API request: {e}\")\n",
    "except ValueError as e:\n",
    "    print(f\"Error parsing response: {e}\")"
   ]
  },
  {
   "cell_type": "code",
   "execution_count": null,
   "id": "8a33c757-b70a-4051-8dd7-83f063078cf9",
   "metadata": {},
   "outputs": [],
   "source": []
  }
 ],
 "metadata": {
  "kernelspec": {
   "display_name": "Python 3 (ipykernel)",
   "language": "python",
   "name": "python3"
  },
  "language_info": {
   "codemirror_mode": {
    "name": "ipython",
    "version": 3
   },
   "file_extension": ".py",
   "mimetype": "text/x-python",
   "name": "python",
   "nbconvert_exporter": "python",
   "pygments_lexer": "ipython3",
   "version": "3.11.13"
  }
 },
 "nbformat": 4,
 "nbformat_minor": 5
}
