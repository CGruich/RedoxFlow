{
 "cells": [
  {
   "cell_type": "code",
   "execution_count": 1,
   "id": "3a441761-491d-4843-94c9-d9034189eb2a",
   "metadata": {},
   "outputs": [],
   "source": [
    "from langflow.load import run_flow_from_json"
   ]
  },
  {
   "cell_type": "code",
   "execution_count": null,
   "id": "8a33c757-b70a-4051-8dd7-83f063078cf9",
   "metadata": {},
   "outputs": [],
   "source": []
  }
 ],
 "metadata": {
  "kernelspec": {
   "display_name": "Python 3 (ipykernel)",
   "language": "python",
   "name": "python3"
  },
  "language_info": {
   "codemirror_mode": {
    "name": "ipython",
    "version": 3
   },
   "file_extension": ".py",
   "mimetype": "text/x-python",
   "name": "python",
   "nbconvert_exporter": "python",
   "pygments_lexer": "ipython3",
   "version": "3.11.13"
  }
 },
 "nbformat": 4,
 "nbformat_minor": 5
}
