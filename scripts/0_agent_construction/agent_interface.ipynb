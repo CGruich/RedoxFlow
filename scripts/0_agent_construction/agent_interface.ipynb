{
 "cells": [
  {
   "cell_type": "code",
   "execution_count": 14,
   "id": "ad8e2ee4-ece9-4ec1-82d4-1ae9c6d7d124",
   "metadata": {},
   "outputs": [],
   "source": [
    "import requests\n",
    "import os, shlex\n",
    "from pathlib import Path\n",
    "\n",
    "# API Configuration\n",
    "#try:\n",
    "#    api_key = os.environ[\"LANGFLOW_API_KEY\"]\n",
    "#except KeyError:\n",
    "#    raise ValueError(\"LANGFLOW_API_KEY environment variable not found. Please set your API key in the environment variables.\")\n",
    "\n",
    "api_key = 'sk-X79_-vNIayyYPiDeRRImuz71MV41uqitGS_IMjmLT5s'\n",
    "url = \"http://localhost:7861/api/v1/run/cfc72f63-b9d3-43b0-9559-220a9343d4ec\"  # The complete API endpoint URL for this flow"
   ]
  },
  {
   "cell_type": "code",
   "execution_count": 15,
   "id": "ae6977d2-71f1-4551-b4a9-643856c5821d",
   "metadata": {},
   "outputs": [
    {
     "name": "stdout",
     "output_type": "stream",
     "text": [
      "⚠️ MOLECULES_CSV not found at /media/cameron/T7 Touch/Github/CGruich/RedoxFlow/scripts/0_agent_construction/reactants_memory.csv\n",
      "⚠️ OUT_CSV not found at /media/cameron/T7 Touch/Github/CGruich/RedoxFlow/scripts/0_agent_construction/reaction_products.csv\n"
     ]
    }
   ],
   "source": [
    "defaults = {\n",
    "    \"PYTHON_SCRIPT\": \"/media/cameron/T7 Touch/Github/CGruich/RedoxFlow/scripts/0_agent_construction/reduce.py\",\n",
    "    \"MOLECULES_CSV\": \"/media/cameron/T7 Touch/Github/CGruich/RedoxFlow/scripts/0_agent_construction/reactants_memory.csv\",\n",
    "    \"REACTIONS_JSON\": \"/media/cameron/T7 Touch/Github/CGruich/RedoxFlow/scripts/0_agent_construction/Reactions.json\",\n",
    "    \"OUT_CSV\": \"/media/cameron/T7 Touch/Github/CGruich/RedoxFlow/scripts/0_agent_construction/reaction_products.csv\",\n",
    "}\n",
    "\n",
    "for k, v in defaults.items():\n",
    "    os.environ.setdefault(k, v)\n",
    "\n",
    "# Quick sanity check (warn only)\n",
    "for k in (\"PYTHON_SCRIPT\", \"MOLECULES_CSV\", \"REACTIONS_JSON\", \"OUT_CSV\"):\n",
    "    p = Path(os.environ[k])\n",
    "    if not p.exists():\n",
    "        print(f\"⚠️ {k} not found at {p}\")"
   ]
  },
  {
   "cell_type": "code",
   "execution_count": 16,
   "id": "2534f0c7-02bb-4d29-b220-52f7e33c6a0e",
   "metadata": {},
   "outputs": [],
   "source": [
    "prompt = {\n",
    "  \"count\": 5,\n",
    "  \"max_atoms\": 8,\n",
    "  \"min_unique_elements\": 1,\n",
    "  \"elements\": \"CNOF\",\n",
    "\n",
    "  \"model_id\": \"ibm-research/GP-MoLFormer-Uniq\",\n",
    "  \"tokenizer_id\": \"ibm-research/MoLFormer-XL-both-10pct\",\n",
    "\n",
    "  \"temperature\": 0.425,\n",
    "  \"top_p\": 0.9,\n",
    "  \"top_k\": None,\n",
    "  \"repetition_penalty\": 1.10,\n",
    "  \"num_return_sequences\": 96,\n",
    "\n",
    "  \"device\": \"cuda:0\",\n",
    "  \"rdkit_filter\": True,\n",
    "  \"remap_disallowed\": True,\n",
    "\n",
    "  \"python_script\": os.environ[\"PYTHON_SCRIPT\"],\n",
    "  \"python_args\": [\n",
    "    \"--molecules\", os.environ[\"MOLECULES_CSV\"],\n",
    "    \"--reactions\", os.environ[\"REACTIONS_JSON\"],\n",
    "    \"--out\", os.environ[\"OUT_CSV\"],\n",
    "    \"--depth\", \"2\",\n",
    "  ],\n",
    "\n",
    "  \"bash_cmd\": \"bash \\\"/media/cameron/T7 Touch/Github/CGruich/RedoxFlow/scripts/0_agent_construction/run_conformer_search_nw_generation.sh\\\"\",\n",
    "\n",
    "  \"memory_path\": os.environ[\"MOLECULES_CSV\"],\n",
    "  \"return_smiles\": True\n",
    "}"
   ]
  },
  {
   "cell_type": "code",
   "execution_count": 17,
   "id": "ed6d7547-3f37-4211-8f53-334bb2ae3aae",
   "metadata": {},
   "outputs": [
    {
     "data": {
      "text/plain": [
       "{'count': 5,\n",
       " 'max_atoms': 8,\n",
       " 'min_unique_elements': 1,\n",
       " 'elements': 'CNOF',\n",
       " 'model_id': 'ibm-research/GP-MoLFormer-Uniq',\n",
       " 'tokenizer_id': 'ibm-research/MoLFormer-XL-both-10pct',\n",
       " 'temperature': 0.425,\n",
       " 'top_p': 0.9,\n",
       " 'top_k': None,\n",
       " 'repetition_penalty': 1.1,\n",
       " 'num_return_sequences': 96,\n",
       " 'device': 'cuda:0',\n",
       " 'rdkit_filter': True,\n",
       " 'remap_disallowed': True,\n",
       " 'python_script': '/media/cameron/T7 Touch/Github/CGruich/RedoxFlow/scripts/0_agent_construction/reduce.py',\n",
       " 'python_args': ['--molecules',\n",
       "  '/media/cameron/T7 Touch/Github/CGruich/RedoxFlow/scripts/0_agent_construction/reactants_memory.csv',\n",
       "  '--reactions',\n",
       "  '/media/cameron/T7 Touch/Github/CGruich/RedoxFlow/scripts/0_agent_construction/Reactions.json',\n",
       "  '--out',\n",
       "  '/media/cameron/T7 Touch/Github/CGruich/RedoxFlow/scripts/0_agent_construction/reaction_products.csv',\n",
       "  '--depth',\n",
       "  '2'],\n",
       " 'bash_cmd': 'bash \"/media/cameron/T7 Touch/Github/CGruich/RedoxFlow/scripts/0_agent_construction/run_conformer_search_nw_generation.sh\"',\n",
       " 'memory_path': '/media/cameron/T7 Touch/Github/CGruich/RedoxFlow/scripts/0_agent_construction/reactants_memory.csv',\n",
       " 'return_smiles': True}"
      ]
     },
     "execution_count": 17,
     "metadata": {},
     "output_type": "execute_result"
    }
   ],
   "source": [
    "prompt"
   ]
  },
  {
   "cell_type": "code",
   "execution_count": 18,
   "id": "d1fd05ec-3fc3-4e7e-91ee-b21f5a1404d1",
   "metadata": {},
   "outputs": [],
   "source": [
    "# Request payload configuration\n",
    "payload = {\n",
    "    \"output_type\": \"chat\",\n",
    "    \"input_type\": \"chat\",\n",
    "    \"input_value\": str(prompt)\n",
    "}\n",
    "\n",
    "# Request headers\n",
    "headers = {\n",
    "    \"Content-Type\": \"application/json\",\n",
    "    \"x-api-key\": api_key  # Authentication key from environment variable\n",
    "}"
   ]
  },
  {
   "cell_type": "code",
   "execution_count": 19,
   "id": "9ca0afa2-fb84-4529-a860-8670811da4f7",
   "metadata": {},
   "outputs": [
    {
     "name": "stdout",
     "output_type": "stream",
     "text": [
      "{\"session_id\":\"cfc72f63-b9d3-43b0-9559-220a9343d4ec\",\"outputs\":[{\"inputs\":{\"input_value\":\"{'count': 5, 'max_atoms': 8, 'min_unique_elements': 1, 'elements': 'CNOF', 'model_id': 'ibm-research/GP-MoLFormer-Uniq', 'tokenizer_id': 'ibm-research/MoLFormer-XL-both-10pct', 'temperature': 0.425, 'top_p': 0.9, 'top_k': None, 'repetition_penalty': 1.1, 'num_return_sequences': 96, 'device': 'cuda:0', 'rdkit_filter': True, 'remap_disallowed': True, 'python_script': '/media/cameron/T7 Touch/Github/CGruich/RedoxFlow/scripts/0_agent_construction/reduce.py', 'python_args': ['--molecules', '/media/cameron/T7 Touch/Github/CGruich/RedoxFlow/scripts/0_agent_construction/reactants_memory.csv', '--reactions', '/media/cameron/T7 Touch/Github/CGruich/RedoxFlow/scripts/0_agent_construction/Reactions.json', '--out', '/media/cameron/T7 Touch/Github/CGruich/RedoxFlow/scripts/0_agent_construction/reaction_products.csv', '--depth', '2'], 'bash_cmd': 'bash \\\"/media/cameron/T7 Touch/Github/CGruich/RedoxFlow/scripts/0_agent_construction/run_conformer_search_nw_generation.sh\\\"', 'memory_path': '/media/cameron/T7 Touch/Github/CGruich/RedoxFlow/scripts/0_agent_construction/reactants_memory.csv', 'return_smiles': True}\"},\"outputs\":[{\"results\":{\"message\":{\"text_key\":\"text\",\"data\":{\"timestamp\":\"2025-09-11 00:01:04 UTC\",\"sender\":\"Machine\",\"sender_name\":\"AI\",\"session_id\":\"cfc72f63-b9d3-43b0-9559-220a9343d4ec\",\"text\":\"{\\n  \\\"params_used\\\": {\\n    \\\"count\\\": 10,\\n    \\\"max_atoms\\\": 16,\\n    \\\"min_unique_elements\\\": 1,\\n    \\\"elements\\\": \\\"CFNO\\\",\\n    \\\"temperature\\\": 0.425,\\n    \\\"top_p\\\": 0.9,\\n    \\\"top_k\\\": null,\\n    \\\"repetition_penalty\\\": 1.1,\\n    \\\"num_return_sequences\\\": 96,\\n    \\\"max_length\\\": 204,\\n    \\\"device\\\": \\\"auto\\\",\\n    \\\"rdkit_filter\\\": true,\\n    \\\"remap_disallowed\\\": true,\\n    \\\"python_script\\\": \\\"hello_world.py\\\",\\n    \\\"python_args\\\": \\\"\\\",\\n    \\\"bash_cmd\\\": \\\"\\\",\\n    \\\"memory_path\\\": \\\"reactants_memory.json\\\",\\n    \\\"return_smiles\\\": false\\n  },\\n  \\\"hf_special_token_ids\\\": {\\n    \\\"pad\\\": 2,\\n    \\\"eos\\\": 1,\\n    \\\"bos\\\": -1\\n  },\\n  \\\"count_generated\\\": 10,\\n  \\\"filter_stats\\\": {\\n    \\\"too_few_atoms\\\": 0,\\n    \\\"too_many_atoms\\\": 0,\\n    \\\"not_enough_unique_nonC\\\": 0,\\n    \\\"rdkit_failed\\\": 93,\\n    \\\"has_disallowed_atom\\\": 0,\\n    \\\"ring_strain_failed\\\": 0,\\n    \\\"unrealistic_moiety\\\": 0\\n  },\\n  \\\"raw_samples\\\": 576,\\n  \\\"raw_model_text_truncated\\\": \\\"CC(=O)Nc1ccc(CNC(=O)Nc2c\\\\nCCC(C)(C)NC(=O)c1ccc(NC(\\\\nCc1nc(C)c(C(=O)N2CCCC3(C\\\\nCOc1ccc(-c2noc(CCCC(=O)N\\\\nCC(C)N1CCC(N2CCN(C(=O)C3\\\\nCc1noc(C)c1CN(C)c1nnc(-c\\\\nCC(=O)N1CCC(CN(C)c2nnc(-\\\\nCC(C)(C)OC(=O)N1CCC2(CC1\\\\nCOc1ccc(CN2CCC(NC(=O)C3C\\\\nCCOc1ccc(C(=O)N2CCCCC2)c\\\\nCC(C)CC(=O)N1CC2CCC1CN2C\\\\nCc1cc(NC(=O)C(=O)N2CCCC2\\\\nCc1ccc(-c2nc(C)sc2CC(=O)\\\\nCC(C)c1nnc(N2CCC(Oc3cccc\\\\nCc1cc(C(=O)NC2CCCN(C(=O)\\\\nCC(=O)Nc1ccc(S(=O)(=O)NC\\\\nCc1nc(C)c(CN2CC(CNC(=O)C\\\\nCc1cc(C(=O)N2CCC(CNC(=O)\\\\nCc1nc(C)c(CN2CCC(NC(=O)C\\\\nCC(=O)NC1CCC(C(F)(F)F)N(\\\\nCOc1cc(CN2CCC3(CC2)CC(=O\\\\nCOc1ccc(CN2CCC3(CC2)CC(=\\\\nCC(C)CN1CCN(c2nnc(-c3ccc\\\\nCC(C)(C)OC(=O)N1CCC(CCC(\\\\nCc1ccc(NC(=O)C(=O)N2CCCC\\\\nCc1nc(CN2CC3CCC2CN3C(=O)\\\\nCC(C)(C)OC(=O)N1CCC(N2CC\\\\nCOc1ccc(NC(=O)C(=O)N2CCC\\\\nCc1cc(C)n(-c2ccc(C(=O)N3\\\\nCc1ccc(-c2nn[nH]n2)c(NCC2CC\\\\nCOc1cc(CN2CCC(NC(=O)NCc3\\\\nCOc1ccc(CN2CC3CCC2CN3C\\\",\\n  \\\"python_run\\\": {\\n    \\\"rc\\\": 2,\\n    \\\"stdout\\\": \\\"\\\",\\n    \\\"stderr\\\": \\\"/home/cameron/Documents/envs/chemflow/bin/python3.11: can't open file '/home/cameron/Documents/envs/hello_world.py': [Errno 2] No such file or directory\\\\n\\\",\\n    \\\"cmd\\\": \\\"/home/cameron/Documents/envs/chemflow/bin/python3.11 hello_world.py\\\"\\n  },\\n  \\\"bash_run\\\": {},\\n  \\\"results\\\": [\\n    {\\n      \\\"smiles\\\": \\\"CC(C)CC(=O)N1CC2CCC1CN2C\\\"\\n    },\\n    {\\n      \\\"smiles\\\": \\\"Cc1noc(C)c1CCNC(=O)C=O\\\"\\n    },\\n    {\\n      \\\"smiles\\\": \\\"Cc1noc(C)c1C(=O)N1CCCCC1\\\"\\n    },\\n    {\\n      \\\"smiles\\\": \\\"CCNC(=O)NCc1c(C)nn(C)c1C\\\"\\n    },\\n    {\\n      \\\"smiles\\\": \\\"CC(C)N(C)CC(=O)N1CCCCCC1\\\"\\n    },\\n    {\\n      \\\"smiles\\\": \\\"COc1cc(NC(=O)C2CC2)ccc1O\\\"\\n    },\\n    {\\n      \\\"smiles\\\": \\\"CCOc1cccc(N2CCN(C)CC2)c1\\\"\\n    },\\n    {\\n      \\\"smiles\\\": \\\"CC(C)CCNC(=O)C1(C)CCC1\\\"\\n    },\\n    {\\n      \\\"smiles\\\": \\\"CC(C)C(C)NC(=O)Cc1ccccc1\\\"\\n    },\\n    {\\n      \\\"smiles\\\": \\\"CC(C)c1nc2ccccn2c1NC=O\\\"\\n    }\\n  ]\\n}\",\"files\":[],\"error\":false,\"edit\":false,\"properties\":{\"text_color\":\"\",\"background_color\":\"\",\"edited\":false,\"source\":{\"id\":\"CustomComponent-41DIP\",\"display_name\":\"ChemPipeline\",\"source\":\"ibm-research/GP-MoLFormer-Uniq\"},\"icon\":\"FlaskConical\",\"allow_markdown\":false,\"positive_feedback\":null,\"state\":\"complete\",\"targets\":[]},\"category\":\"message\",\"content_blocks\":[],\"id\":\"6b1ccd85-9782-4b47-bc99-167c11aedb86\",\"flow_id\":\"cfc72f63-b9d3-43b0-9559-220a9343d4ec\",\"duration\":null},\"default_value\":\"\",\"text\":\"{\\n  \\\"params_used\\\": {\\n    \\\"count\\\": 10,\\n    \\\"max_atoms\\\": 16,\\n    \\\"min_unique_elements\\\": 1,\\n    \\\"elements\\\": \\\"CFNO\\\",\\n    \\\"temperature\\\": 0.425,\\n    \\\"top_p\\\": 0.9,\\n    \\\"top_k\\\": null,\\n    \\\"repetition_penalty\\\": 1.1,\\n    \\\"num_return_sequences\\\": 96,\\n    \\\"max_length\\\": 204,\\n    \\\"device\\\": \\\"auto\\\",\\n    \\\"rdkit_filter\\\": true,\\n    \\\"remap_disallowed\\\": true,\\n    \\\"python_script\\\": \\\"hello_world.py\\\",\\n    \\\"python_args\\\": \\\"\\\",\\n    \\\"bash_cmd\\\": \\\"\\\",\\n    \\\"memory_path\\\": \\\"reactants_memory.json\\\",\\n    \\\"return_smiles\\\": false\\n  },\\n  \\\"hf_special_token_ids\\\": {\\n    \\\"pad\\\": 2,\\n    \\\"eos\\\": 1,\\n    \\\"bos\\\": -1\\n  },\\n  \\\"count_generated\\\": 10,\\n  \\\"filter_stats\\\": {\\n    \\\"too_few_atoms\\\": 0,\\n    \\\"too_many_atoms\\\": 0,\\n    \\\"not_enough_unique_nonC\\\": 0,\\n    \\\"rdkit_failed\\\": 93,\\n    \\\"has_disallowed_atom\\\": 0,\\n    \\\"ring_strain_failed\\\": 0,\\n    \\\"unrealistic_moiety\\\": 0\\n  },\\n  \\\"raw_samples\\\": 576,\\n  \\\"raw_model_text_truncated\\\": \\\"CC(=O)Nc1ccc(CNC(=O)Nc2c\\\\nCCC(C)(C)NC(=O)c1ccc(NC(\\\\nCc1nc(C)c(C(=O)N2CCCC3(C\\\\nCOc1ccc(-c2noc(CCCC(=O)N\\\\nCC(C)N1CCC(N2CCN(C(=O)C3\\\\nCc1noc(C)c1CN(C)c1nnc(-c\\\\nCC(=O)N1CCC(CN(C)c2nnc(-\\\\nCC(C)(C)OC(=O)N1CCC2(CC1\\\\nCOc1ccc(CN2CCC(NC(=O)C3C\\\\nCCOc1ccc(C(=O)N2CCCCC2)c\\\\nCC(C)CC(=O)N1CC2CCC1CN2C\\\\nCc1cc(NC(=O)C(=O)N2CCCC2\\\\nCc1ccc(-c2nc(C)sc2CC(=O)\\\\nCC(C)c1nnc(N2CCC(Oc3cccc\\\\nCc1cc(C(=O)NC2CCCN(C(=O)\\\\nCC(=O)Nc1ccc(S(=O)(=O)NC\\\\nCc1nc(C)c(CN2CC(CNC(=O)C\\\\nCc1cc(C(=O)N2CCC(CNC(=O)\\\\nCc1nc(C)c(CN2CCC(NC(=O)C\\\\nCC(=O)NC1CCC(C(F)(F)F)N(\\\\nCOc1cc(CN2CCC3(CC2)CC(=O\\\\nCOc1ccc(CN2CCC3(CC2)CC(=\\\\nCC(C)CN1CCN(c2nnc(-c3ccc\\\\nCC(C)(C)OC(=O)N1CCC(CCC(\\\\nCc1ccc(NC(=O)C(=O)N2CCCC\\\\nCc1nc(CN2CC3CCC2CN3C(=O)\\\\nCC(C)(C)OC(=O)N1CCC(N2CC\\\\nCOc1ccc(NC(=O)C(=O)N2CCC\\\\nCc1cc(C)n(-c2ccc(C(=O)N3\\\\nCc1ccc(-c2nn[nH]n2)c(NCC2CC\\\\nCOc1cc(CN2CCC(NC(=O)NCc3\\\\nCOc1ccc(CN2CC3CCC2CN3C\\\",\\n  \\\"python_run\\\": {\\n    \\\"rc\\\": 2,\\n    \\\"stdout\\\": \\\"\\\",\\n    \\\"stderr\\\": \\\"/home/cameron/Documents/envs/chemflow/bin/python3.11: can't open file '/home/cameron/Documents/envs/hello_world.py': [Errno 2] No such file or directory\\\\n\\\",\\n    \\\"cmd\\\": \\\"/home/cameron/Documents/envs/chemflow/bin/python3.11 hello_world.py\\\"\\n  },\\n  \\\"bash_run\\\": {},\\n  \\\"results\\\": [\\n    {\\n      \\\"smiles\\\": \\\"CC(C)CC(=O)N1CC2CCC1CN2C\\\"\\n    },\\n    {\\n      \\\"smiles\\\": \\\"Cc1noc(C)c1CCNC(=O)C=O\\\"\\n    },\\n    {\\n      \\\"smiles\\\": \\\"Cc1noc(C)c1C(=O)N1CCCCC1\\\"\\n    },\\n    {\\n      \\\"smiles\\\": \\\"CCNC(=O)NCc1c(C)nn(C)c1C\\\"\\n    },\\n    {\\n      \\\"smiles\\\": \\\"CC(C)N(C)CC(=O)N1CCCCCC1\\\"\\n    },\\n    {\\n      \\\"smiles\\\": \\\"COc1cc(NC(=O)C2CC2)ccc1O\\\"\\n    },\\n    {\\n      \\\"smiles\\\": \\\"CCOc1cccc(N2CCN(C)CC2)c1\\\"\\n    },\\n    {\\n      \\\"smiles\\\": \\\"CC(C)CCNC(=O)C1(C)CCC1\\\"\\n    },\\n    {\\n      \\\"smiles\\\": \\\"CC(C)C(C)NC(=O)Cc1ccccc1\\\"\\n    },\\n    {\\n      \\\"smiles\\\": \\\"CC(C)c1nc2ccccn2c1NC=O\\\"\\n    }\\n  ]\\n}\",\"sender\":\"Machine\",\"sender_name\":\"AI\",\"files\":[],\"session_id\":\"cfc72f63-b9d3-43b0-9559-220a9343d4ec\",\"timestamp\":\"2025-09-11T00:01:04+00:00\",\"flow_id\":\"cfc72f63-b9d3-43b0-9559-220a9343d4ec\",\"error\":false,\"edit\":false,\"properties\":{\"text_color\":\"\",\"background_color\":\"\",\"edited\":false,\"source\":{\"id\":\"CustomComponent-41DIP\",\"display_name\":\"ChemPipeline\",\"source\":\"ibm-research/GP-MoLFormer-Uniq\"},\"icon\":\"FlaskConical\",\"allow_markdown\":false,\"positive_feedback\":null,\"state\":\"complete\",\"targets\":[]},\"category\":\"message\",\"content_blocks\":[],\"duration\":null}},\"artifacts\":{\"message\":\"{\\n\\n  \\\"params_used\\\": {\\n\\n    \\\"count\\\": 10,\\n\\n    \\\"max_atoms\\\": 16,\\n\\n    \\\"min_unique_elements\\\": 1,\\n\\n    \\\"elements\\\": \\\"CFNO\\\",\\n\\n    \\\"temperature\\\": 0.425,\\n\\n    \\\"top_p\\\": 0.9,\\n\\n    \\\"top_k\\\": null,\\n\\n    \\\"repetition_penalty\\\": 1.1,\\n\\n    \\\"num_return_sequences\\\": 96,\\n\\n    \\\"max_length\\\": 204,\\n\\n    \\\"device\\\": \\\"auto\\\",\\n\\n    \\\"rdkit_filter\\\": true,\\n\\n    \\\"remap_disallowed\\\": true,\\n\\n    \\\"python_script\\\": \\\"hello_world.py\\\",\\n\\n    \\\"python_args\\\": \\\"\\\",\\n\\n    \\\"bash_cmd\\\": \\\"\\\",\\n\\n    \\\"memory_path\\\": \\\"reactants_memory.json\\\",\\n\\n    \\\"return_smiles\\\": false\\n\\n  },\\n\\n  \\\"hf_special_token_ids\\\": {\\n\\n    \\\"pad\\\": 2,\\n\\n    \\\"eos\\\": 1,\\n\\n    \\\"bos\\\": -1\\n\\n  },\\n\\n  \\\"count_generated\\\": 10,\\n\\n  \\\"filter_stats\\\": {\\n\\n    \\\"too_few_atoms\\\": 0,\\n\\n    \\\"too_many_atoms\\\": 0,\\n\\n    \\\"not_enough_unique_nonC\\\": 0,\\n\\n    \\\"rdkit_failed\\\": 93,\\n\\n    \\\"has_disallowed_atom\\\": 0,\\n\\n    \\\"ring_strain_failed\\\": 0,\\n\\n    \\\"unrealistic_moiety\\\": 0\\n\\n  },\\n\\n  \\\"raw_samples\\\": 576,\\n\\n  \\\"raw_model_text_truncated\\\": \\\"CC(=O)Nc1ccc(CNC(=O)Nc2c\\\\nCCC(C)(C)NC(=O)c1ccc(NC(\\\\nCc1nc(C)c(C(=O)N2CCCC3(C\\\\nCOc1ccc(-c2noc(CCCC(=O)N\\\\nCC(C)N1CCC(N2CCN(C(=O)C3\\\\nCc1noc(C)c1CN(C)c1nnc(-c\\\\nCC(=O)N1CCC(CN(C)c2nnc(-\\\\nCC(C)(C)OC(=O)N1CCC2(CC1\\\\nCOc1ccc(CN2CCC(NC(=O)C3C\\\\nCCOc1ccc(C(=O)N2CCCCC2)c\\\\nCC(C)CC(=O)N1CC2CCC1CN2C\\\\nCc1cc(NC(=O)C(=O)N2CCCC2\\\\nCc1ccc(-c2nc(C)sc2CC(=O)\\\\nCC(C)c1nnc(N2CCC(Oc3cccc\\\\nCc1cc(C(=O)NC2CCCN(C(=O)\\\\nCC(=O)Nc1ccc(S(=O)(=O)NC\\\\nCc1nc(C)c(CN2CC(CNC(=O)C\\\\nCc1cc(C(=O)N2CCC(CNC(=O)\\\\nCc1nc(C)c(CN2CCC(NC(=O)C\\\\nCC(=O)NC1CCC(C(F)(F)F)N(\\\\nCOc1cc(CN2CCC3(CC2)CC(=O\\\\nCOc1ccc(CN2CCC3(CC2)CC(=\\\\nCC(C)CN1CCN(c2nnc(-c3ccc\\\\nCC(C)(C)OC(=O)N1CCC(CCC(\\\\nCc1ccc(NC(=O)C(=O)N2CCCC\\\\nCc1nc(CN2CC3CCC2CN3C(=O)\\\\nCC(C)(C)OC(=O)N1CCC(N2CC\\\\nCOc1ccc(NC(=O)C(=O)N2CCC\\\\nCc1cc(C)n(-c2ccc(C(=O)N3\\\\nCc1ccc(-c2nn[nH]n2)c(NCC2CC\\\\nCOc1cc(CN2CCC(NC(=O)NCc3\\\\nCOc1ccc(CN2CC3CCC2CN3C\\\",\\n\\n  \\\"python_run\\\": {\\n\\n    \\\"rc\\\": 2,\\n\\n    \\\"stdout\\\": \\\"\\\",\\n\\n    \\\"stderr\\\": \\\"/home/cameron/Documents/envs/chemflow/bin/python3.11: can't open file '/home/cameron/Documents/envs/hello_world.py': [Errno 2] No such file or directory\\\\n\\\",\\n\\n    \\\"cmd\\\": \\\"/home/cameron/Documents/envs/chemflow/bin/python3.11 hello_world.py\\\"\\n\\n  },\\n\\n  \\\"bash_run\\\": {},\\n\\n  \\\"results\\\": [\\n\\n    {\\n\\n      \\\"smiles\\\": \\\"CC(C)CC(=O)N1CC2CCC1CN2C\\\"\\n\\n    },\\n\\n    {\\n\\n      \\\"smiles\\\": \\\"Cc1noc(C)c1CCNC(=O)C=O\\\"\\n\\n    },\\n\\n    {\\n\\n      \\\"smiles\\\": \\\"Cc1noc(C)c1C(=O)N1CCCCC1\\\"\\n\\n    },\\n\\n    {\\n\\n      \\\"smiles\\\": \\\"CCNC(=O)NCc1c(C)nn(C)c1C\\\"\\n\\n    },\\n\\n    {\\n\\n      \\\"smiles\\\": \\\"CC(C)N(C)CC(=O)N1CCCCCC1\\\"\\n\\n    },\\n\\n    {\\n\\n      \\\"smiles\\\": \\\"COc1cc(NC(=O)C2CC2)ccc1O\\\"\\n\\n    },\\n\\n    {\\n\\n      \\\"smiles\\\": \\\"CCOc1cccc(N2CCN(C)CC2)c1\\\"\\n\\n    },\\n\\n    {\\n\\n      \\\"smiles\\\": \\\"CC(C)CCNC(=O)C1(C)CCC1\\\"\\n\\n    },\\n\\n    {\\n\\n      \\\"smiles\\\": \\\"CC(C)C(C)NC(=O)Cc1ccccc1\\\"\\n\\n    },\\n\\n    {\\n\\n      \\\"smiles\\\": \\\"CC(C)c1nc2ccccn2c1NC=O\\\"\\n\\n    }\\n\\n  ]\\n\\n}\",\"sender\":\"Machine\",\"sender_name\":\"AI\",\"files\":[],\"type\":\"object\"},\"outputs\":{\"message\":{\"message\":\"{\\n  \\\"params_used\\\": {\\n    \\\"count\\\": 10,\\n    \\\"max_atoms\\\": 16,\\n    \\\"min_unique_elements\\\": 1,\\n    \\\"elements\\\": \\\"CFNO\\\",\\n    \\\"temperature\\\": 0.425,\\n    \\\"top_p\\\": 0.9,\\n    \\\"top_k\\\": null,\\n    \\\"repetition_penalty\\\": 1.1,\\n    \\\"num_return_sequences\\\": 96,\\n    \\\"max_length\\\": 204,\\n    \\\"device\\\": \\\"auto\\\",\\n    \\\"rdkit_filter\\\": true,\\n    \\\"remap_disallowed\\\": true,\\n    \\\"python_script\\\": \\\"hello_world.py\\\",\\n    \\\"python_args\\\": \\\"\\\",\\n    \\\"bash_cmd\\\": \\\"\\\",\\n    \\\"memory_path\\\": \\\"reactants_memory.json\\\",\\n    \\\"return_smiles\\\": false\\n  },\\n  \\\"hf_special_token_ids\\\": {\\n    \\\"pad\\\": 2,\\n    \\\"eos\\\": 1,\\n    \\\"bos\\\": -1\\n  },\\n  \\\"count_generated\\\": 10,\\n  \\\"filter_stats\\\": {\\n    \\\"too_few_atoms\\\": 0,\\n    \\\"too_many_atoms\\\": 0,\\n    \\\"not_enough_unique_nonC\\\": 0,\\n    \\\"rdkit_failed\\\": 93,\\n    \\\"has_disallowed_atom\\\": 0,\\n    \\\"ring_strain_failed\\\": 0,\\n    \\\"unrealistic_moiety\\\": 0\\n  },\\n  \\\"raw_samples\\\": 576,\\n  \\\"raw_model_text_truncated\\\": \\\"CC(=O)Nc1ccc(CNC(=O)Nc2c\\\\nCCC(C)(C)NC(=O)c1ccc(NC(\\\\nCc1nc(C)c(C(=O)N2CCCC3(C\\\\nCOc1ccc(-c2noc(CCCC(=O)N\\\\nCC(C)N1CCC(N2CCN(C(=O)C3\\\\nCc1noc(C)c1CN(C)c1nnc(-c\\\\nCC(=O)N1CCC(CN(C)c2nnc(-\\\\nCC(C)(C)OC(=O)N1CCC2(CC1\\\\nCOc1ccc(CN2CCC(NC(=O)C3C\\\\nCCOc1ccc(C(=O)N2CCCCC2)c\\\\nCC(C)CC(=O)N1CC2CCC1CN2C\\\\nCc1cc(NC(=O)C(=O)N2CCCC2\\\\nCc1ccc(-c2nc(C)sc2CC(=O)\\\\nCC(C)c1nnc(N2CCC(Oc3cccc\\\\nCc1cc(C(=O)NC2CCCN(C(=O)\\\\nCC(=O)Nc1ccc(S(=O)(=O)NC\\\\nCc1nc(C)c(CN2CC(CNC(=O)C\\\\nCc1cc(C(=O)N2CCC(CNC(=O)\\\\nCc1nc(C)c(CN2CCC(NC(=O)C\\\\nCC(=O)NC1CCC(C(F)(F)F)N(\\\\nCOc1cc(CN2CCC3(CC2)CC(=O\\\\nCOc1ccc(CN2CCC3(CC2)CC(=\\\\nCC(C)CN1CCN(c2nnc(-c3ccc\\\\nCC(C)(C)OC(=O)N1CCC(CCC(\\\\nCc1ccc(NC(=O)C(=O)N2CCCC\\\\nCc1nc(CN2CC3CCC2CN3C(=O)\\\\nCC(C)(C)OC(=O)N1CCC(N2CC\\\\nCOc1ccc(NC(=O)C(=O)N2CCC\\\\nCc1cc(C)n(-c2ccc(C(=O)N3\\\\nCc1ccc(-c2nn[nH]n2)c(NCC2CC\\\\nCOc1cc(CN2CCC(NC(=O)NCc3\\\\nCOc1ccc(CN2CC3CCC2CN3C\\\",\\n  \\\"python_run\\\": {\\n    \\\"rc\\\": 2,\\n    \\\"stdout\\\": \\\"\\\",\\n    \\\"stderr\\\": \\\"/home/cameron/Documents/envs/chemflow/bin/python3.11: can't open file '/home/cameron/Documents/envs/hello_world.py': [Errno 2] No such file or directory\\\\n\\\",\\n    \\\"cmd\\\": \\\"/home/cameron/Documents/envs/chemflow/bin/python3.11 hello_world.py\\\"\\n  },\\n  \\\"bash_run\\\": {},\\n  \\\"results\\\": [\\n    {\\n      \\\"smiles\\\": \\\"CC(C)CC(=O)N1CC2CCC1CN2C\\\"\\n    },\\n    {\\n      \\\"smiles\\\": \\\"Cc1noc(C)c1CCNC(=O)C=O\\\"\\n    },\\n    {\\n      \\\"smiles\\\": \\\"Cc1noc(C)c1C(=O)N1CCCCC1\\\"\\n    },\\n    {\\n      \\\"smiles\\\": \\\"CCNC(=O)NCc1c(C)nn(C)c1C\\\"\\n    },\\n    {\\n      \\\"smiles\\\": \\\"CC(C)N(C)CC(=O)N1CCCCCC1\\\"\\n    },\\n    {\\n      \\\"smiles\\\": \\\"COc1cc(NC(=O)C2CC2)ccc1O\\\"\\n    },\\n    {\\n      \\\"smiles\\\": \\\"CCOc1cccc(N2CCN(C)CC2)c1\\\"\\n    },\\n    {\\n      \\\"smiles\\\": \\\"CC(C)CCNC(=O)C1(C)CCC1\\\"\\n    },\\n    {\\n      \\\"smiles\\\": \\\"CC(C)C(C)NC(=O)Cc1ccccc1\\\"\\n    },\\n    {\\n      \\\"smiles\\\": \\\"CC(C)c1nc2ccccn2c1NC=O\\\"\\n    }\\n  ]\\n}\",\"type\":\"text\"}},\"logs\":{\"message\":[]},\"messages\":[{\"message\":\"{\\n\\n  \\\"params_used\\\": {\\n\\n    \\\"count\\\": 10,\\n\\n    \\\"max_atoms\\\": 16,\\n\\n    \\\"min_unique_elements\\\": 1,\\n\\n    \\\"elements\\\": \\\"CFNO\\\",\\n\\n    \\\"temperature\\\": 0.425,\\n\\n    \\\"top_p\\\": 0.9,\\n\\n    \\\"top_k\\\": null,\\n\\n    \\\"repetition_penalty\\\": 1.1,\\n\\n    \\\"num_return_sequences\\\": 96,\\n\\n    \\\"max_length\\\": 204,\\n\\n    \\\"device\\\": \\\"auto\\\",\\n\\n    \\\"rdkit_filter\\\": true,\\n\\n    \\\"remap_disallowed\\\": true,\\n\\n    \\\"python_script\\\": \\\"hello_world.py\\\",\\n\\n    \\\"python_args\\\": \\\"\\\",\\n\\n    \\\"bash_cmd\\\": \\\"\\\",\\n\\n    \\\"memory_path\\\": \\\"reactants_memory.json\\\",\\n\\n    \\\"return_smiles\\\": false\\n\\n  },\\n\\n  \\\"hf_special_token_ids\\\": {\\n\\n    \\\"pad\\\": 2,\\n\\n    \\\"eos\\\": 1,\\n\\n    \\\"bos\\\": -1\\n\\n  },\\n\\n  \\\"count_generated\\\": 10,\\n\\n  \\\"filter_stats\\\": {\\n\\n    \\\"too_few_atoms\\\": 0,\\n\\n    \\\"too_many_atoms\\\": 0,\\n\\n    \\\"not_enough_unique_nonC\\\": 0,\\n\\n    \\\"rdkit_failed\\\": 93,\\n\\n    \\\"has_disallowed_atom\\\": 0,\\n\\n    \\\"ring_strain_failed\\\": 0,\\n\\n    \\\"unrealistic_moiety\\\": 0\\n\\n  },\\n\\n  \\\"raw_samples\\\": 576,\\n\\n  \\\"raw_model_text_truncated\\\": \\\"CC(=O)Nc1ccc(CNC(=O)Nc2c\\\\nCCC(C)(C)NC(=O)c1ccc(NC(\\\\nCc1nc(C)c(C(=O)N2CCCC3(C\\\\nCOc1ccc(-c2noc(CCCC(=O)N\\\\nCC(C)N1CCC(N2CCN(C(=O)C3\\\\nCc1noc(C)c1CN(C)c1nnc(-c\\\\nCC(=O)N1CCC(CN(C)c2nnc(-\\\\nCC(C)(C)OC(=O)N1CCC2(CC1\\\\nCOc1ccc(CN2CCC(NC(=O)C3C\\\\nCCOc1ccc(C(=O)N2CCCCC2)c\\\\nCC(C)CC(=O)N1CC2CCC1CN2C\\\\nCc1cc(NC(=O)C(=O)N2CCCC2\\\\nCc1ccc(-c2nc(C)sc2CC(=O)\\\\nCC(C)c1nnc(N2CCC(Oc3cccc\\\\nCc1cc(C(=O)NC2CCCN(C(=O)\\\\nCC(=O)Nc1ccc(S(=O)(=O)NC\\\\nCc1nc(C)c(CN2CC(CNC(=O)C\\\\nCc1cc(C(=O)N2CCC(CNC(=O)\\\\nCc1nc(C)c(CN2CCC(NC(=O)C\\\\nCC(=O)NC1CCC(C(F)(F)F)N(\\\\nCOc1cc(CN2CCC3(CC2)CC(=O\\\\nCOc1ccc(CN2CCC3(CC2)CC(=\\\\nCC(C)CN1CCN(c2nnc(-c3ccc\\\\nCC(C)(C)OC(=O)N1CCC(CCC(\\\\nCc1ccc(NC(=O)C(=O)N2CCCC\\\\nCc1nc(CN2CC3CCC2CN3C(=O)\\\\nCC(C)(C)OC(=O)N1CCC(N2CC\\\\nCOc1ccc(NC(=O)C(=O)N2CCC\\\\nCc1cc(C)n(-c2ccc(C(=O)N3\\\\nCc1ccc(-c2nn[nH]n2)c(NCC2CC\\\\nCOc1cc(CN2CCC(NC(=O)NCc3\\\\nCOc1ccc(CN2CC3CCC2CN3C\\\",\\n\\n  \\\"python_run\\\": {\\n\\n    \\\"rc\\\": 2,\\n\\n    \\\"stdout\\\": \\\"\\\",\\n\\n    \\\"stderr\\\": \\\"/home/cameron/Documents/envs/chemflow/bin/python3.11: can't open file '/home/cameron/Documents/envs/hello_world.py': [Errno 2] No such file or directory\\\\n\\\",\\n\\n    \\\"cmd\\\": \\\"/home/cameron/Documents/envs/chemflow/bin/python3.11 hello_world.py\\\"\\n\\n  },\\n\\n  \\\"bash_run\\\": {},\\n\\n  \\\"results\\\": [\\n\\n    {\\n\\n      \\\"smiles\\\": \\\"CC(C)CC(=O)N1CC2CCC1CN2C\\\"\\n\\n    },\\n\\n    {\\n\\n      \\\"smiles\\\": \\\"Cc1noc(C)c1CCNC(=O)C=O\\\"\\n\\n    },\\n\\n    {\\n\\n      \\\"smiles\\\": \\\"Cc1noc(C)c1C(=O)N1CCCCC1\\\"\\n\\n    },\\n\\n    {\\n\\n      \\\"smiles\\\": \\\"CCNC(=O)NCc1c(C)nn(C)c1C\\\"\\n\\n    },\\n\\n    {\\n\\n      \\\"smiles\\\": \\\"CC(C)N(C)CC(=O)N1CCCCCC1\\\"\\n\\n    },\\n\\n    {\\n\\n      \\\"smiles\\\": \\\"COc1cc(NC(=O)C2CC2)ccc1O\\\"\\n\\n    },\\n\\n    {\\n\\n      \\\"smiles\\\": \\\"CCOc1cccc(N2CCN(C)CC2)c1\\\"\\n\\n    },\\n\\n    {\\n\\n      \\\"smiles\\\": \\\"CC(C)CCNC(=O)C1(C)CCC1\\\"\\n\\n    },\\n\\n    {\\n\\n      \\\"smiles\\\": \\\"CC(C)C(C)NC(=O)Cc1ccccc1\\\"\\n\\n    },\\n\\n    {\\n\\n      \\\"smiles\\\": \\\"CC(C)c1nc2ccccn2c1NC=O\\\"\\n\\n    }\\n\\n  ]\\n\\n}\",\"sender\":\"Machine\",\"sender_name\":\"AI\",\"session_id\":\"cfc72f63-b9d3-43b0-9559-220a9343d4ec\",\"stream_url\":null,\"component_id\":\"ChatOutput-45RHL\",\"files\":[],\"type\":\"text\"}],\"timedelta\":null,\"duration\":null,\"component_display_name\":\"Chat Output\",\"component_id\":\"ChatOutput-45RHL\",\"used_frozen_result\":false}]}]}\n"
     ]
    }
   ],
   "source": [
    "try:\n",
    "    # Send API request\n",
    "    response = requests.request(\"POST\", url, json=payload, headers=headers)\n",
    "    response.raise_for_status()  # Raise exception for bad status codes\n",
    "\n",
    "    # Print response\n",
    "    print(response.text)\n",
    "\n",
    "except requests.exceptions.RequestException as e:\n",
    "    print(f\"Error making API request: {e}\")\n",
    "except ValueError as e:\n",
    "    print(f\"Error parsing response: {e}\")"
   ]
  },
  {
   "cell_type": "code",
   "execution_count": null,
   "id": "8a33c757-b70a-4051-8dd7-83f063078cf9",
   "metadata": {},
   "outputs": [],
   "source": []
  }
 ],
 "metadata": {
  "kernelspec": {
   "display_name": "Python 3 (ipykernel)",
   "language": "python",
   "name": "python3"
  },
  "language_info": {
   "codemirror_mode": {
    "name": "ipython",
    "version": 3
   },
   "file_extension": ".py",
   "mimetype": "text/x-python",
   "name": "python",
   "nbconvert_exporter": "python",
   "pygments_lexer": "ipython3",
   "version": "3.11.13"
  }
 },
 "nbformat": 4,
 "nbformat_minor": 5
}
