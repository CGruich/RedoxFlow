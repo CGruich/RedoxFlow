{
 "cells": [
  {
   "cell_type": "code",
   "execution_count": 3,
   "id": "3a441761-491d-4843-94c9-d9034189eb2a",
   "metadata": {},
   "outputs": [
    {
     "ename": "ModuleNotFoundError",
     "evalue": "No module named 'scripts'",
     "output_type": "error",
     "traceback": [
      "\u001b[31m---------------------------------------------------------------------------\u001b[39m",
      "\u001b[31mModuleNotFoundError\u001b[39m                       Traceback (most recent call last)",
      "\u001b[36mCell\u001b[39m\u001b[36m \u001b[39m\u001b[32mIn[3]\u001b[39m\u001b[32m, line 2\u001b[39m\n\u001b[32m      1\u001b[39m \u001b[38;5;28;01mimport\u001b[39;00m\u001b[38;5;250m \u001b[39m\u001b[34;01mos\u001b[39;00m\n\u001b[32m----> \u001b[39m\u001b[32m2\u001b[39m \u001b[38;5;28;01mfrom\u001b[39;00m\u001b[38;5;250m \u001b[39m\u001b[34;01mscripts\u001b[39;00m\u001b[38;5;250m \u001b[39m\u001b[38;5;28;01mimport\u001b[39;00m prepare_scripts\n",
      "\u001b[31mModuleNotFoundError\u001b[39m: No module named 'scripts'"
     ]
    }
   ],
   "source": [
    "import os\n",
    "from scripts import prepare_scripts"
   ]
  },
  {
   "cell_type": "code",
   "execution_count": null,
   "id": "21b72c83-9111-44b2-8149-66c52bd9f13e",
   "metadata": {},
   "outputs": [],
   "source": [
    "# Local Code Repo Location\n",
    "os.environ[\"REDOXGIT\"] = \"/home/cameron/Documents/Github/RedoxFlow\""
   ]
  },
  {
   "cell_type": "code",
   "execution_count": 6,
   "id": "50ba268c-139a-4420-b14c-8b5e17a440e7",
   "metadata": {},
   "outputs": [
    {
     "ename": "NameError",
     "evalue": "name 'prepare_scripts' is not defined",
     "output_type": "error",
     "traceback": [
      "\u001b[31m---------------------------------------------------------------------------\u001b[39m",
      "\u001b[31mNameError\u001b[39m                                 Traceback (most recent call last)",
      "\u001b[36mCell\u001b[39m\u001b[36m \u001b[39m\u001b[32mIn[6]\u001b[39m\u001b[32m, line 1\u001b[39m\n\u001b[32m----> \u001b[39m\u001b[32m1\u001b[39m agent_raw_output = \u001b[43mprepare_scripts\u001b[49m(num_generated_reactants=\u001b[32m10\u001b[39m, \u001b[38;5;66;03m# Number of generated reactants\u001b[39;00m\n\u001b[32m      2\u001b[39m                     max_heavy_atoms_per_reactant=\u001b[32m16\u001b[39m, \u001b[38;5;66;03m# Max # of non-hydrogen atoms per reactant\u001b[39;00m\n\u001b[32m      3\u001b[39m                     min_uniq_elements=\u001b[32m1\u001b[39m, \u001b[38;5;66;03m# Max # of non-C elements allowed in the molecule\u001b[39;00m\n\u001b[32m      4\u001b[39m                     temperature=\u001b[32m0.425\u001b[39m, \u001b[38;5;66;03m# Higher -> More unusual structures, more electronegatives\u001b[39;00m\n\u001b[32m      5\u001b[39m                     device=\u001b[33m'\u001b[39m\u001b[33mauto\u001b[39m\u001b[33m'\u001b[39m, \u001b[38;5;66;03m# 'cpu', 'cuda:0' for GPUs, 'auto' to auto-determine\u001b[39;00m\n\u001b[32m      6\u001b[39m                     verbose=\u001b[38;5;28;01mTrue\u001b[39;00m) \u001b[38;5;66;03m# Print out script preparation progress)\u001b[39;00m\n",
      "\u001b[31mNameError\u001b[39m: name 'prepare_scripts' is not defined"
     ]
    }
   ],
   "source": [
    "agent_raw_output = prepare_scripts(num_generated_reactants=10, # Number of generated reactants\n",
    "                    max_heavy_atoms_per_reactant=16, # Max # of non-hydrogen atoms per reactant\n",
    "                    min_uniq_elements=1, # Max # of non-C elements allowed in the molecule\n",
    "                    temperature=0.425, # Higher -> More unusual structures, more electronegatives\n",
    "                    device='auto', # 'cpu', 'cuda:0' for GPUs, 'auto' to auto-determine\n",
    "                    verbose=True) # Print out script preparation progress)"
   ]
  },
  {
   "cell_type": "code",
   "execution_count": null,
   "id": "bc96f0c1-daa6-4e8f-9fa4-4961b583d1a2",
   "metadata": {},
   "outputs": [],
   "source": []
  }
 ],
 "metadata": {
  "kernelspec": {
   "display_name": "Python 3 (ipykernel)",
   "language": "python",
   "name": "python3"
  },
  "language_info": {
   "codemirror_mode": {
    "name": "ipython",
    "version": 3
   },
   "file_extension": ".py",
   "mimetype": "text/x-python",
   "name": "python",
   "nbconvert_exporter": "python",
   "pygments_lexer": "ipython3",
   "version": "3.11.13"
  }
 },
 "nbformat": 4,
 "nbformat_minor": 5
}
